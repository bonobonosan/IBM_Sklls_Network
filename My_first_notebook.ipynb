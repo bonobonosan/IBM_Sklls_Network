{
  "metadata": {
    "language_info": {
      "codemirror_mode": {
        "name": "python",
        "version": 3
      },
      "file_extension": ".py",
      "mimetype": "text/x-python",
      "name": "python",
      "nbconvert_exporter": "python",
      "pygments_lexer": "ipython3",
      "version": "3.8"
    },
    "kernelspec": {
      "name": "python",
      "display_name": "Pyolite",
      "language": "python"
    }
  },
  "nbformat_minor": 4,
  "nbformat": 4,
  "cells": [
    {
      "cell_type": "markdown",
      "source": "<h1>My Jupyter Notebook on IBM Watson Studio</h1>",
      "metadata": {}
    },
    {
      "cell_type": "markdown",
      "source": "**Hitoshi Kawamura**\n<br>Data Scientist",
      "metadata": {}
    },
    {
      "cell_type": "markdown",
      "source": "*I am interested in data science because I think that data science is a must-have skill for the future.*\n<br>*And I like programing. So I think I want to be data scientist.*",
      "metadata": {}
    },
    {
      "cell_type": "markdown",
      "source": "<h3>Simple Caluculation</h3>",
      "metadata": {}
    },
    {
      "cell_type": "code",
      "source": "1+1",
      "metadata": {
        "trusted": true
      },
      "execution_count": 1,
      "outputs": [
        {
          "execution_count": 1,
          "output_type": "execute_result",
          "data": {
            "text/plain": "2"
          },
          "metadata": {}
        }
      ]
    },
    {
      "cell_type": "markdown",
      "source": "<h2>My introduction</h2>\n\n+ I'm a electrical Engineer now.\n+ I'm studying data science for career change.\n+ I like watching baseball.\n+ I can play the cello.\n\n---\n\n> *blocked quotes sample*\n> \n> a = 1,\n> b = 2,\n> c = a + b\n>\n> c = 3",
      "metadata": {}
    }
  ]
}
